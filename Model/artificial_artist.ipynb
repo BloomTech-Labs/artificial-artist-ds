{
 "cells": [
  {
   "cell_type": "code",
   "execution_count": 19,
   "metadata": {},
   "outputs": [
    {
     "name": "stdout",
     "output_type": "stream",
     "text": [
      "\n",
      "Reading audio \n",
      "\n",
      "\n",
      "Generating input vectors \n",
      "\n",
      "100%|█████████████████████████████████████| 9995/9995 [00:01<00:00, 5829.04it/s]\n",
      "\n",
      "\n",
      "Generating frames \n",
      "\n",
      "100%|███████████████████████████████████████████| 43/43 [00:47<00:00,  1.10s/it]\n",
      "Moviepy - Building video 512-nipple-truc3.mp4.\n",
      "MoviePy - Writing audio in 512-nipple-truc3TEMP_MPY_wvf_snd.mp4\n",
      "MoviePy - Done.                                                                 \n",
      "Moviepy - Writing video 512-nipple-truc3.mp4\n",
      "\n",
      "Moviepy - Done !                                                                \n",
      "Moviepy - video ready 512-nipple-truc3.mp4\n",
      "\u001b[0m"
     ]
    }
   ],
   "source": [
    "!python visualize.py --song colors-of-the-heart.mp3 --resolution 512 --duration 30 --num_classes 1 --classes 680 --truncation 0.3 --output_file 512-nipple-truc3.mp4"
   ]
  },
  {
   "cell_type": "markdown",
   "metadata": {},
   "source": [
    "---Setup Instructions for Sagemaker\n",
    "\n",
    "Step 1: Run these commands in terminal\n",
    "git clone https://github.com/msieg/deep-music-visualizer.git\n",
    "cd deep-music-visualizer\n",
    "pip install -r requirements.txt\n",
    "\n",
    "Step 2: in terminal\n",
    "conda install -n python3 -c conda-forge librosa\n",
    "conda install -n python3 -c conda-forge moviepy\n",
    "\n",
    "Step 3: in notebook\n",
    "!pip install torch \n",
    "!pip install pytorch_pretrained_biggan\n",
    "\n",
    "Imagenet classes list: https://gist.github.com/yrevar/942d3a0ac09ec9e5eb3a\n"
   ]
  },
  {
   "cell_type": "code",
   "execution_count": 2,
   "metadata": {},
   "outputs": [
    {
     "name": "stdout",
     "output_type": "stream",
     "text": [
      "Collecting torch\n",
      "  Using cached https://files.pythonhosted.org/packages/24/19/4804aea17cd136f1705a5e98a00618cb8f6ccc375ad8bfa437408e09d058/torch-1.4.0-cp36-cp36m-manylinux1_x86_64.whl\n",
      "\u001b[31mlibrosa 0.7.2 has requirement numba>=0.43.0, but you'll have numba 0.38.0 which is incompatible.\u001b[0m\n",
      "Installing collected packages: torch\n",
      "Successfully installed torch-1.4.0\n",
      "\u001b[33mYou are using pip version 10.0.1, however version 20.0.2 is available.\n",
      "You should consider upgrading via the 'pip install --upgrade pip' command.\u001b[0m\n"
     ]
    }
   ],
   "source": [
    "!pip install torch "
   ]
  },
  {
   "cell_type": "code",
   "execution_count": 3,
   "metadata": {},
   "outputs": [
    {
     "name": "stdout",
     "output_type": "stream",
     "text": [
      "Collecting pytorch_pretrained_biggan\n",
      "  Using cached https://files.pythonhosted.org/packages/21/05/cd567ad149d8e91080ee767dcaec25b84a325c590b7a415a6edd3a022818/pytorch_pretrained_biggan-0.1.1-py3-none-any.whl\n",
      "Requirement already satisfied: numpy in /home/ec2-user/anaconda3/envs/python3/lib/python3.6/site-packages (from pytorch_pretrained_biggan) (1.15.4)\n",
      "Requirement already satisfied: requests in /home/ec2-user/anaconda3/envs/python3/lib/python3.6/site-packages (from pytorch_pretrained_biggan) (2.20.0)\n",
      "Requirement already satisfied: boto3 in /home/ec2-user/anaconda3/envs/python3/lib/python3.6/site-packages (from pytorch_pretrained_biggan) (1.12.39)\n",
      "Requirement already satisfied: tqdm in /home/ec2-user/anaconda3/envs/python3/lib/python3.6/site-packages (from pytorch_pretrained_biggan) (4.45.0)\n",
      "Requirement already satisfied: torch>=0.4.1 in /home/ec2-user/anaconda3/envs/python3/lib/python3.6/site-packages (from pytorch_pretrained_biggan) (1.4.0)\n",
      "Requirement already satisfied: urllib3<1.25,>=1.21.1 in /home/ec2-user/anaconda3/envs/python3/lib/python3.6/site-packages (from requests->pytorch_pretrained_biggan) (1.23)\n",
      "Requirement already satisfied: certifi>=2017.4.17 in /home/ec2-user/anaconda3/envs/python3/lib/python3.6/site-packages (from requests->pytorch_pretrained_biggan) (2020.4.5.1)\n",
      "Requirement already satisfied: chardet<3.1.0,>=3.0.2 in /home/ec2-user/anaconda3/envs/python3/lib/python3.6/site-packages (from requests->pytorch_pretrained_biggan) (3.0.4)\n",
      "Requirement already satisfied: idna<2.8,>=2.5 in /home/ec2-user/anaconda3/envs/python3/lib/python3.6/site-packages (from requests->pytorch_pretrained_biggan) (2.6)\n",
      "Requirement already satisfied: jmespath<1.0.0,>=0.7.1 in /home/ec2-user/anaconda3/envs/python3/lib/python3.6/site-packages (from boto3->pytorch_pretrained_biggan) (0.9.4)\n",
      "Requirement already satisfied: botocore<1.16.0,>=1.15.39 in /home/ec2-user/anaconda3/envs/python3/lib/python3.6/site-packages (from boto3->pytorch_pretrained_biggan) (1.15.39)\n",
      "Requirement already satisfied: s3transfer<0.4.0,>=0.3.0 in /home/ec2-user/anaconda3/envs/python3/lib/python3.6/site-packages (from boto3->pytorch_pretrained_biggan) (0.3.3)\n",
      "Requirement already satisfied: python-dateutil<3.0.0,>=2.1 in /home/ec2-user/anaconda3/envs/python3/lib/python3.6/site-packages (from botocore<1.16.0,>=1.15.39->boto3->pytorch_pretrained_biggan) (2.7.3)\n",
      "Requirement already satisfied: docutils<0.16,>=0.10 in /home/ec2-user/anaconda3/envs/python3/lib/python3.6/site-packages (from botocore<1.16.0,>=1.15.39->boto3->pytorch_pretrained_biggan) (0.14)\n",
      "Requirement already satisfied: six>=1.5 in /home/ec2-user/anaconda3/envs/python3/lib/python3.6/site-packages (from python-dateutil<3.0.0,>=2.1->botocore<1.16.0,>=1.15.39->boto3->pytorch_pretrained_biggan) (1.11.0)\n",
      "\u001b[31mlibrosa 0.7.2 has requirement numba>=0.43.0, but you'll have numba 0.38.0 which is incompatible.\u001b[0m\n",
      "Installing collected packages: pytorch-pretrained-biggan\n",
      "Successfully installed pytorch-pretrained-biggan-0.1.1\n",
      "\u001b[33mYou are using pip version 10.0.1, however version 20.0.2 is available.\n",
      "You should consider upgrading via the 'pip install --upgrade pip' command.\u001b[0m\n"
     ]
    }
   ],
   "source": [
    "!pip install pytorch_pretrained_biggan"
   ]
  },
  {
   "cell_type": "code",
   "execution_count": null,
   "metadata": {},
   "outputs": [],
   "source": []
  }
 ],
 "metadata": {
  "kernelspec": {
   "display_name": "conda_python3",
   "language": "python",
   "name": "conda_python3"
  },
  "language_info": {
   "codemirror_mode": {
    "name": "ipython",
    "version": 3
   },
   "file_extension": ".py",
   "mimetype": "text/x-python",
   "name": "python",
   "nbconvert_exporter": "python",
   "pygments_lexer": "ipython3",
   "version": "3.6.5"
  }
 },
 "nbformat": 4,
 "nbformat_minor": 4
}
